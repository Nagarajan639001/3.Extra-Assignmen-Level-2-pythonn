{
 "cells": [
  {
   "cell_type": "code",
   "execution_count": null,
   "id": "254f7ab6-115f-4459-87f9-d188c478c7fb",
   "metadata": {},
   "outputs": [],
   "source": [
    " # print o to 20 by using range"
   ]
  },
  {
   "cell_type": "code",
   "execution_count": 9,
   "id": "0f2677b4-b688-48a0-aa2e-c6bb72420801",
   "metadata": {},
   "outputs": [
    {
     "name": "stdout",
     "output_type": "stream",
     "text": [
      "0\n",
      "1\n",
      "2\n",
      "3\n",
      "4\n",
      "5\n",
      "6\n",
      "7\n",
      "8\n",
      "9\n",
      "10\n",
      "11\n",
      "12\n",
      "13\n",
      "14\n",
      "15\n",
      "16\n",
      "17\n",
      "18\n",
      "19\n"
     ]
    }
   ],
   "source": [
    "for num in range(0,20):\n",
    "    print(num)"
   ]
  },
  {
   "cell_type": "code",
   "execution_count": 55,
   "id": "d005c51b-1578-4428-8f8d-c96cfd381fb2",
   "metadata": {},
   "outputs": [
    {
     "name": "stdout",
     "output_type": "stream",
     "text": [
      "10 11 12 13 14 15 16 17 18 19 "
     ]
    }
   ],
   "source": [
    "# print range 10 t0 20\n",
    "for num in range(10,20):\n",
    "    print(num, end=\" \")"
   ]
  },
  {
   "cell_type": "code",
   "execution_count": 11,
   "id": "aabf1278-fc4a-49a0-af77-bdce83b715b0",
   "metadata": {},
   "outputs": [
    {
     "name": "stdout",
     "output_type": "stream",
     "text": [
      "Number of Item in the List1: 7\n"
     ]
    }
   ],
   "source": [
    "# print  number of items in the list by using 'len'\n",
    "List1=[10,20,14,55,4,87,76]\n",
    "len(List1)\n",
    "print(\"Number of Item in the List1:\",len(List1))"
   ]
  },
  {
   "cell_type": "code",
   "execution_count": 21,
   "id": "6d5c475d-ec99-4670-a195-9fdcd8f4898d",
   "metadata": {},
   "outputs": [
    {
     "name": "stdout",
     "output_type": "stream",
     "text": [
      "A\n",
      "r\n",
      "t\n",
      "i\n",
      "f\n",
      "i\n",
      "c\n",
      "a\n",
      "l\n",
      " \n",
      "i\n",
      "n\n",
      "t\n",
      "e\n",
      "l\n",
      "l\n",
      "i\n",
      "g\n",
      "e\n",
      "n\n",
      "c\n",
      "e\n"
     ]
    }
   ],
   "source": [
    "Mystring = \"Artifical intelligence\"\n",
    "for x in Mystring:\n",
    "    print(x)"
   ]
  },
  {
   "cell_type": "code",
   "execution_count": 24,
   "id": "1149f18d-4c93-4b75-89aa-fc00a2d2e502",
   "metadata": {},
   "outputs": [
    {
     "name": "stdout",
     "output_type": "stream",
     "text": [
      "- your Name -\n",
      "- Your Age-\n",
      "- Your Profession -\n"
     ]
    }
   ],
   "source": [
    "print( \"- your Name -\")\n",
    "print(\"- Your Age-\")\n",
    "print(\"- Your Profession -\")"
   ]
  },
  {
   "cell_type": "code",
   "execution_count": 26,
   "id": "ba1e2534-ba7c-4b0a-b350-462c58a65682",
   "metadata": {},
   "outputs": [
    {
     "name": "stdout",
     "output_type": "stream",
     "text": [
      "(1, 'Welcome', 2, 'Hope')\n"
     ]
    }
   ],
   "source": [
    "MyTup=(1, 'Welcome', 2, 'Hope')\n",
    "print(MyTup)"
   ]
  },
  {
   "cell_type": "code",
   "execution_count": 27,
   "id": "24a1df00-9e52-459b-a08a-88ff789de20f",
   "metadata": {},
   "outputs": [
    {
     "name": "stdout",
     "output_type": "stream",
     "text": [
      "((0, 1, 2, 3), ('Python', 'Hope'))\n"
     ]
    }
   ],
   "source": [
    "Tupes = ((0,1,2,3),('Python','Hope'))\n",
    "print(Tupes)"
   ]
  },
  {
   "cell_type": "code",
   "execution_count": 49,
   "id": "56f42ddb-ff0c-4464-9369-aef4f8e0fce0",
   "metadata": {},
   "outputs": [
    {
     "name": "stdout",
     "output_type": "stream",
     "text": [
      "19 is add\n",
      "25 is add\n",
      "1 is add\n"
     ]
    }
   ],
   "source": [
    "#print odd number in the List\n",
    "Tup=(20,10,16,19,25,1,276,188)\n",
    "for i in Tup:\n",
    "    if i%2!=0:\n",
    "        print(i,\"is odd\")\n",
    "    \n",
    "    \n"
   ]
  },
  {
   "cell_type": "code",
   "execution_count": 51,
   "id": "db02ced8-7d5e-4227-ab92-45e51354e14c",
   "metadata": {},
   "outputs": [
    {
     "name": "stdout",
     "output_type": "stream",
     "text": [
      "20 is Even\n",
      "10 is Even\n",
      "16 is Even\n",
      "276 is Even\n",
      "188 is Even\n"
     ]
    }
   ],
   "source": [
    "#print Even  number in the List\n",
    "Tup=(20,10,16,19,25,1,276,188)\n",
    "for i in Tup:\n",
    "    if i%2==0:\n",
    "        print (i,\"is Even\")\n",
    "    "
   ]
  },
  {
   "cell_type": "code",
   "execution_count": null,
   "id": "3e590072-93a9-4c81-82eb-9557ac922449",
   "metadata": {},
   "outputs": [],
   "source": []
  }
 ],
 "metadata": {
  "kernelspec": {
   "display_name": "Python 3 (ipykernel)",
   "language": "python",
   "name": "python3"
  },
  "language_info": {
   "codemirror_mode": {
    "name": "ipython",
    "version": 3
   },
   "file_extension": ".py",
   "mimetype": "text/x-python",
   "name": "python",
   "nbconvert_exporter": "python",
   "pygments_lexer": "ipython3",
   "version": "3.12.4"
  }
 },
 "nbformat": 4,
 "nbformat_minor": 5
}
